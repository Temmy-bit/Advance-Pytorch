{
  "nbformat": 4,
  "nbformat_minor": 0,
  "metadata": {
    "colab": {
      "provenance": [],
      "gpuType": "T4"
    },
    "kernelspec": {
      "name": "python3",
      "display_name": "Python 3"
    },
    "language_info": {
      "name": "python"
    },
    "accelerator": "GPU"
  },
  "cells": [
    {
      "cell_type": "code",
      "source": [
        "import torch\n",
        "import torchvision\n",
        "import torch.nn as nn\n",
        "import torch.optim as optim\n",
        "from torch.utils.data import DataLoader\n",
        "import torchvision.datasets as datasets\n",
        "import torchvision.transforms as transforms\n",
        "import torch.nn.functional as F\n",
        "\n",
        "device = torch.device('cuda' if torch.cuda.is_available() else 'cpu')\n",
        "\n",
        "# Hyperparameters\n",
        "input_size = 28\n",
        "sequence_length = 28\n",
        "num_layers = 2\n",
        "hidden_size = 256\n",
        "num_classes = 10\n",
        "learning_rate = 0.001\n",
        "batch_size = 64\n",
        "num_epochs = 2"
      ],
      "metadata": {
        "id": "82bov_QOWCtw"
      },
      "execution_count": 15,
      "outputs": []
    },
    {
      "cell_type": "code",
      "source": [
        "train_dataset = datasets.FashionMNIST(root='',train=True,\n",
        "                                      transform = transforms.ToTensor(),\n",
        "                                      download = True)\n",
        "\n",
        "\n",
        "test_dataset = datasets.FashionMNIST(root='',train=False,\n",
        "                                      transform = transforms.ToTensor(),\n",
        "                                      download = True)\n",
        "\n",
        "train_loader = DataLoader(dataset=train_dataset,batch_size=batch_size,shuffle = True)\n",
        "\n",
        "test_loader = DataLoader(dataset=test_dataset,batch_size=batch_size,shuffle = True)\n"
      ],
      "metadata": {
        "id": "PLNbM1EYVM9s"
      },
      "execution_count": 16,
      "outputs": []
    },
    {
      "cell_type": "code",
      "execution_count": 29,
      "metadata": {
        "id": "7hyX1PzFVHeT"
      },
      "outputs": [],
      "source": [
        "class RNN(nn.Module):\n",
        "    def __init__(self,input_size,hidden_size,num_layers,num_classes):\n",
        "        super(RNN,self).__init__()\n",
        "        self.hidden_size = hidden_size\n",
        "        self.num_layers = num_layers\n",
        "        self.lstm = nn.LSTM(input_size,hidden_size,num_layers,batch_first = True)\n",
        "        self.fc = nn.Linear(hidden_size*sequence_length,num_classes)\n",
        "\n",
        "    def forward(self,x):\n",
        "        h0 = torch.zeros(self.num_layers,x.size(0),self.hidden_size).to(device)\n",
        "        # c0 is required for LSTM only\n",
        "        c0 = torch.zeros(self.num_layers,x.size(0),self.hidden_size).to(device)\n",
        "        # self.rnn/gru(x,h0)\n",
        "        out, _ = self.lstm(x,(h0,c0))\n",
        "        out = out.reshape(out.shape[0],-1)\n",
        "        out = self.fc(out)\n",
        "        # using the last layer commenting the reshape and removing the sequence_length from the fc layer\n",
        "        # out = self.fc(out[:,-1,:])\n",
        "        return out"
      ]
    },
    {
      "cell_type": "code",
      "source": [
        "model = RNN(input_size,hidden_size,num_layers,num_classes).to(device)\n",
        "\n",
        "loss_fn = nn.CrossEntropyLoss()\n",
        "optimizer = optim.Adam(model.parameters(),lr=learning_rate)\n"
      ],
      "metadata": {
        "id": "3bceo7q3WLsx"
      },
      "execution_count": 30,
      "outputs": []
    },
    {
      "cell_type": "code",
      "source": [
        "\n",
        "for epoch in range(num_epochs):\n",
        "    for batch,(data,targets), in enumerate(train_loader):\n",
        "        data,targets = data.to(device).squeeze(1),targets.to(device)\n",
        "\n",
        "        # data = data.reshape(data.shape[0],-1)\n",
        "        pred = model(data)\n",
        "        loss = loss_fn(pred,targets)\n",
        "\n",
        "        optimizer.zero_grad()\n",
        "        loss.backward()\n",
        "\n",
        "        optimizer.step()\n",
        "\n"
      ],
      "metadata": {
        "id": "9VS19puqWXXc"
      },
      "execution_count": 31,
      "outputs": []
    },
    {
      "cell_type": "code",
      "source": [
        "def check_accuracy(loader,model):\n",
        "    if loader.dataset.train:\n",
        "        print(\"Checking accuracy on training data\")\n",
        "\n",
        "    else:\n",
        "        print(\"Checking accuracy on test data\")\n",
        "\n",
        "    num_correct = 0\n",
        "    num_samples = 0\n",
        "    model.eval()\n",
        "\n",
        "    with torch.inference_mode():\n",
        "        for x,y in loader:\n",
        "            x,y = x.to(device).squeeze(1),y.to(device)\n",
        "            # print(x.shape)\n",
        "            # x = x.reshape(x.shape[0],-1)\n",
        "            # print(x.shape)\n",
        "\n",
        "            pred = model(x)\n",
        "            _,predictions = pred.max(1)\n",
        "            num_correct += (predictions == y).sum()\n",
        "            num_samples += predictions.size(0)\n",
        "\n",
        "        print(f\"Got {num_correct} / {num_samples} with accuracy \\\n",
        "                {float(num_correct)/float(num_samples)*100:.2f}\")\n",
        "\n",
        "    model.train()\n",
        "\n",
        "check_accuracy(train_loader,model)\n",
        "check_accuracy(test_loader,model)\n"
      ],
      "metadata": {
        "colab": {
          "base_uri": "https://localhost:8080/"
        },
        "id": "3-a4JGqIWblj",
        "outputId": "473c303d-af25-43c0-cd1b-e9bf0f46b084"
      },
      "execution_count": 32,
      "outputs": [
        {
          "output_type": "stream",
          "name": "stdout",
          "text": [
            "Checking accuracy on training data\n",
            "Got 52646 / 60000 with accuracy                 87.74\n",
            "Checking accuracy on test data\n",
            "Got 8674 / 10000 with accuracy                 86.74\n"
          ]
        }
      ]
    },
    {
      "cell_type": "code",
      "source": [],
      "metadata": {
        "id": "c9CR4-s7Wd3o"
      },
      "execution_count": null,
      "outputs": []
    }
  ]
}