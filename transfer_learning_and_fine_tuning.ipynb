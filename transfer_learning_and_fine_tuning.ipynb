{
  "nbformat": 4,
  "nbformat_minor": 0,
  "metadata": {
    "colab": {
      "provenance": [],
      "gpuType": "T4",
      "authorship_tag": "ABX9TyMjMAvNjByvns+iKSWZb/OX",
      "include_colab_link": true
    },
    "kernelspec": {
      "name": "python3",
      "display_name": "Python 3"
    },
    "language_info": {
      "name": "python"
    },
    "accelerator": "GPU"
  },
  "cells": [
    {
      "cell_type": "markdown",
      "metadata": {
        "id": "view-in-github",
        "colab_type": "text"
      },
      "source": [
        "<a href=\"https://colab.research.google.com/github/Temmy-bit/Advance-Pytorch/blob/main/transfer_learning_and_fine_tuning.ipynb\" target=\"_parent\"><img src=\"https://colab.research.google.com/assets/colab-badge.svg\" alt=\"Open In Colab\"/></a>"
      ]
    },
    {
      "cell_type": "code",
      "execution_count": 1,
      "metadata": {
        "id": "2Byb14z869Cb"
      },
      "outputs": [],
      "source": [
        "import torch\n",
        "import torchvision\n",
        "import torch.nn as nn\n",
        "import torch.optim as optim\n",
        "from torch.utils.data import DataLoader\n",
        "import torchvision.datasets as datasets\n",
        "import torchvision.transforms as transforms\n",
        "import torch.nn.functional as F\n",
        "import matplotlib.pyplot as plt\n",
        "import random\n",
        "\n",
        "device = torch.device('cuda' if torch.cuda.is_available() else 'cpu')"
      ]
    },
    {
      "cell_type": "code",
      "source": [
        "device = \"cuda\" if torch.cuda.is_available() else \"cpu\""
      ],
      "metadata": {
        "id": "UVV1fRp3L_HM"
      },
      "execution_count": 2,
      "outputs": []
    },
    {
      "cell_type": "code",
      "source": [
        "# Hyperparameters\n",
        "in_channel = 3\n",
        "num_classes = 10\n",
        "learning_rate = 0.001\n",
        "batch_size = 64\n",
        "num_epochs = 5\n",
        "\n",
        "\n",
        "train_dataset = datasets.CIFAR10(root='.',train=True,\n",
        "                                      transform = transforms.ToTensor(),\n",
        "                                      download = True)\n",
        "\n",
        "\n",
        "test_dataset = datasets.CIFAR10(root='.',train=False,\n",
        "                                      transform = transforms.ToTensor(),\n",
        "                                      download = True)\n",
        "\n",
        "train_loader = DataLoader(dataset=train_dataset,batch_size=batch_size,shuffle = True)\n",
        "\n",
        "test_loader = DataLoader(dataset=test_dataset,batch_size=batch_size,shuffle = True)\n",
        "\n",
        "class_names = train_dataset.classes\n",
        "\n"
      ],
      "metadata": {
        "colab": {
          "base_uri": "https://localhost:8080/"
        },
        "id": "XJlA-1oq7FPj",
        "outputId": "87090e2c-5b62-4ad2-b155-5b3012a1cfde"
      },
      "execution_count": 3,
      "outputs": [
        {
          "output_type": "stream",
          "name": "stdout",
          "text": [
            "Downloading https://www.cs.toronto.edu/~kriz/cifar-10-python.tar.gz to ./cifar-10-python.tar.gz\n"
          ]
        },
        {
          "output_type": "stream",
          "name": "stderr",
          "text": [
            "100%|██████████| 170498071/170498071 [00:13<00:00, 12574199.49it/s]\n"
          ]
        },
        {
          "output_type": "stream",
          "name": "stdout",
          "text": [
            "Extracting ./cifar-10-python.tar.gz to .\n",
            "Files already downloaded and verified\n"
          ]
        }
      ]
    },
    {
      "cell_type": "code",
      "source": [
        "class Identity(nn.Module):\n",
        "    def __init__(self):\n",
        "        super(Identity,self).__init__()\n",
        "\n",
        "    def forward(self,x):\n",
        "        return x"
      ],
      "metadata": {
        "id": "OMXEFkha7W7P"
      },
      "execution_count": 4,
      "outputs": []
    },
    {
      "cell_type": "code",
      "source": [
        "model = torchvision.models.vgg16(pretrained=True).to(device)\n",
        "# print(model)\n",
        "model.avgpool = Identity()\n",
        "model.classifier[0] = nn.Linear(512,10)\n",
        "\n",
        "# for adding multiple layer with nn.Sequential\n",
        "model.classifier = nn.Linear(512,10)\n",
        "\n",
        "# for i in range(1,7):\n",
        "#     model.classifier[i] = Identity()\n",
        "print(model)\n"
      ],
      "metadata": {
        "colab": {
          "base_uri": "https://localhost:8080/"
        },
        "id": "E9UfQblX7MPd",
        "outputId": "6046a609-fc1d-4c0a-e92d-ef31d6c4e4bd"
      },
      "execution_count": 5,
      "outputs": [
        {
          "output_type": "stream",
          "name": "stderr",
          "text": [
            "/usr/local/lib/python3.10/dist-packages/torchvision/models/_utils.py:208: UserWarning: The parameter 'pretrained' is deprecated since 0.13 and may be removed in the future, please use 'weights' instead.\n",
            "  warnings.warn(\n",
            "/usr/local/lib/python3.10/dist-packages/torchvision/models/_utils.py:223: UserWarning: Arguments other than a weight enum or `None` for 'weights' are deprecated since 0.13 and may be removed in the future. The current behavior is equivalent to passing `weights=VGG16_Weights.IMAGENET1K_V1`. You can also use `weights=VGG16_Weights.DEFAULT` to get the most up-to-date weights.\n",
            "  warnings.warn(msg)\n",
            "Downloading: \"https://download.pytorch.org/models/vgg16-397923af.pth\" to /root/.cache/torch/hub/checkpoints/vgg16-397923af.pth\n",
            "100%|██████████| 528M/528M [00:04<00:00, 113MB/s] \n"
          ]
        },
        {
          "output_type": "stream",
          "name": "stdout",
          "text": [
            "VGG(\n",
            "  (features): Sequential(\n",
            "    (0): Conv2d(3, 64, kernel_size=(3, 3), stride=(1, 1), padding=(1, 1))\n",
            "    (1): ReLU(inplace=True)\n",
            "    (2): Conv2d(64, 64, kernel_size=(3, 3), stride=(1, 1), padding=(1, 1))\n",
            "    (3): ReLU(inplace=True)\n",
            "    (4): MaxPool2d(kernel_size=2, stride=2, padding=0, dilation=1, ceil_mode=False)\n",
            "    (5): Conv2d(64, 128, kernel_size=(3, 3), stride=(1, 1), padding=(1, 1))\n",
            "    (6): ReLU(inplace=True)\n",
            "    (7): Conv2d(128, 128, kernel_size=(3, 3), stride=(1, 1), padding=(1, 1))\n",
            "    (8): ReLU(inplace=True)\n",
            "    (9): MaxPool2d(kernel_size=2, stride=2, padding=0, dilation=1, ceil_mode=False)\n",
            "    (10): Conv2d(128, 256, kernel_size=(3, 3), stride=(1, 1), padding=(1, 1))\n",
            "    (11): ReLU(inplace=True)\n",
            "    (12): Conv2d(256, 256, kernel_size=(3, 3), stride=(1, 1), padding=(1, 1))\n",
            "    (13): ReLU(inplace=True)\n",
            "    (14): Conv2d(256, 256, kernel_size=(3, 3), stride=(1, 1), padding=(1, 1))\n",
            "    (15): ReLU(inplace=True)\n",
            "    (16): MaxPool2d(kernel_size=2, stride=2, padding=0, dilation=1, ceil_mode=False)\n",
            "    (17): Conv2d(256, 512, kernel_size=(3, 3), stride=(1, 1), padding=(1, 1))\n",
            "    (18): ReLU(inplace=True)\n",
            "    (19): Conv2d(512, 512, kernel_size=(3, 3), stride=(1, 1), padding=(1, 1))\n",
            "    (20): ReLU(inplace=True)\n",
            "    (21): Conv2d(512, 512, kernel_size=(3, 3), stride=(1, 1), padding=(1, 1))\n",
            "    (22): ReLU(inplace=True)\n",
            "    (23): MaxPool2d(kernel_size=2, stride=2, padding=0, dilation=1, ceil_mode=False)\n",
            "    (24): Conv2d(512, 512, kernel_size=(3, 3), stride=(1, 1), padding=(1, 1))\n",
            "    (25): ReLU(inplace=True)\n",
            "    (26): Conv2d(512, 512, kernel_size=(3, 3), stride=(1, 1), padding=(1, 1))\n",
            "    (27): ReLU(inplace=True)\n",
            "    (28): Conv2d(512, 512, kernel_size=(3, 3), stride=(1, 1), padding=(1, 1))\n",
            "    (29): ReLU(inplace=True)\n",
            "    (30): MaxPool2d(kernel_size=2, stride=2, padding=0, dilation=1, ceil_mode=False)\n",
            "  )\n",
            "  (avgpool): Identity()\n",
            "  (classifier): Linear(in_features=512, out_features=10, bias=True)\n",
            ")\n"
          ]
        }
      ]
    },
    {
      "cell_type": "code",
      "source": [
        "loss_fn = nn.CrossEntropyLoss()\n",
        "optimizer = optim.Adam(model.parameters(),lr=learning_rate)\n",
        "scheduler = optim.lr_scheduler.ReduceLROnPlateau(optimizer,factor=0.1,patience=5,verbose =True)\n"
      ],
      "metadata": {
        "id": "ltc2TfHV7X9D"
      },
      "execution_count": 6,
      "outputs": []
    },
    {
      "cell_type": "code",
      "source": [
        "# for batch,(data,targets), in enumerate(train_loader):\n",
        "#       data,targets = data.to(device),targets.to(device)"
      ],
      "metadata": {
        "id": "rK2k8kopKUrX"
      },
      "execution_count": 7,
      "outputs": []
    },
    {
      "cell_type": "code",
      "source": [
        "model = model.to(device)"
      ],
      "metadata": {
        "id": "5uG6rg53Mvsw"
      },
      "execution_count": 8,
      "outputs": []
    },
    {
      "cell_type": "code",
      "source": [
        "def check_accuracy(loader,model):\n",
        "    if loader.dataset.train:\n",
        "        print(\"Checking accuracy on training data\")\n",
        "\n",
        "    else:\n",
        "        print(\"Checking accuracy on test data\")\n",
        "\n",
        "    num_correct = 0\n",
        "    num_samples = 0\n",
        "    model.eval()\n",
        "\n",
        "    with torch.inference_mode():\n",
        "        for x,y in loader:\n",
        "            x,y = x.to(device),y.to(device)\n",
        "            # print(x.shape)\n",
        "            # x = x.reshape(x.shape[0],-1)\n",
        "            # print(x.shape)\n",
        "\n",
        "            pred = model(x)\n",
        "            _,predictions = pred.max(1)\n",
        "            num_correct += (predictions == y).sum()\n",
        "            num_samples += predictions.size(0)\n",
        "\n",
        "    print(f\"Got {num_correct} / {num_samples} with accuracy \\\n",
        "            {float(num_correct)/float(num_samples)*100:.2f}\")\n",
        "    print(f\"Cost at epoch {epoch} is {mean_loss}\")\n",
        "\n",
        "    model.train()"
      ],
      "metadata": {
        "id": "PMI0AbuMM-QS"
      },
      "execution_count": 9,
      "outputs": []
    },
    {
      "cell_type": "code",
      "source": [
        "for epoch in range(num_epochs):\n",
        "    losses = []\n",
        "    for batch,(data,targets), in enumerate(train_loader):\n",
        "        data,targets = data.to(device),targets.to(device)\n",
        "\n",
        "        # data = data.reshape(data.shape[0],-1)\n",
        "        pred = model(data)\n",
        "        loss = loss_fn(pred,targets)\n",
        "        losses.append(loss.item())\n",
        "\n",
        "        optimizer.zero_grad()\n",
        "        loss.backward()\n",
        "\n",
        "        optimizer.step()\n",
        "    mean_loss = sum(losses)/len(losses)\n",
        "    scheduler.step(mean_loss)\n",
        "\n",
        "    check_accuracy(train_loader,model)\n",
        "    check_accuracy(test_loader,model)\n"
      ],
      "metadata": {
        "colab": {
          "base_uri": "https://localhost:8080/"
        },
        "id": "CJNU32987qn-",
        "outputId": "2b481baa-b082-42ec-ed85-a27824b83423"
      },
      "execution_count": 10,
      "outputs": [
        {
          "output_type": "stream",
          "name": "stdout",
          "text": [
            "Checking accuracy on training data\n",
            "Got 37767 / 50000 with accuracy             75.53\n",
            "Cost at epoch 0 is 1.2154284246132503\n",
            "Checking accuracy on test data\n",
            "Got 7349 / 10000 with accuracy             73.49\n",
            "Cost at epoch 0 is 1.2154284246132503\n",
            "Checking accuracy on training data\n",
            "Got 41540 / 50000 with accuracy             83.08\n",
            "Cost at epoch 1 is 0.6865486891373344\n",
            "Checking accuracy on test data\n",
            "Got 7821 / 10000 with accuracy             78.21\n",
            "Cost at epoch 1 is 0.6865486891373344\n",
            "Checking accuracy on training data\n",
            "Got 43501 / 50000 with accuracy             87.00\n",
            "Cost at epoch 2 is 0.5284713761657095\n",
            "Checking accuracy on test data\n",
            "Got 8099 / 10000 with accuracy             80.99\n",
            "Cost at epoch 2 is 0.5284713761657095\n",
            "Checking accuracy on training data\n",
            "Got 44226 / 50000 with accuracy             88.45\n",
            "Cost at epoch 3 is 0.42861129056729014\n",
            "Checking accuracy on test data\n",
            "Got 8047 / 10000 with accuracy             80.47\n",
            "Cost at epoch 3 is 0.42861129056729014\n",
            "Checking accuracy on training data\n",
            "Got 46123 / 50000 with accuracy             92.25\n",
            "Cost at epoch 4 is 0.3548636622536365\n",
            "Checking accuracy on test data\n",
            "Got 8363 / 10000 with accuracy             83.63\n",
            "Cost at epoch 4 is 0.3548636622536365\n"
          ]
        }
      ]
    },
    {
      "cell_type": "code",
      "source": [
        "def check_accuracy(loader,model):\n",
        "    if loader.dataset.train:\n",
        "        print(\"Checking accuracy on training data\")\n",
        "\n",
        "    else:\n",
        "        print(\"Checking accuracy on test data\")\n",
        "\n",
        "    num_correct = 0\n",
        "    num_samples = 0\n",
        "    model.eval()\n",
        "\n",
        "    with torch.inference_mode():\n",
        "        for x,y in loader:\n",
        "            x,y = x.to(device),y.to(device)\n",
        "            # print(x.shape)\n",
        "            # x = x.reshape(x.shape[0],-1)\n",
        "            # print(x.shape)\n",
        "\n",
        "            pred = model(x)\n",
        "            _,predictions = pred.max(1)\n",
        "            num_correct += (predictions == y).sum()\n",
        "            num_samples += predictions.size(0)\n",
        "\n",
        "    print(f\"Got {num_correct} / {num_samples} with accuracy \\\n",
        "            {float(num_correct)/float(num_samples)*100:.2f}\")\n",
        "    print(f\"Cost at epoch {epoch} is {mean_loss}\")\n",
        "\n",
        "    model.train()\n",
        "\n",
        "check_accuracy(train_loader,model)\n",
        "check_accuracy(test_loader,model)"
      ],
      "metadata": {
        "colab": {
          "base_uri": "https://localhost:8080/"
        },
        "id": "zX8tZiBc7vM3",
        "outputId": "b5d20880-0c4d-4dd4-abd6-6f60e9466d15"
      },
      "execution_count": 23,
      "outputs": [
        {
          "output_type": "stream",
          "name": "stdout",
          "text": [
            "Checking accuracy on training data\n",
            "Got 46123 / 50000 with accuracy             92.25\n",
            "Cost at epoch 4 is 0.3548636622536365\n",
            "Checking accuracy on test data\n",
            "Got 8363 / 10000 with accuracy             83.63\n",
            "Cost at epoch 4 is 0.3548636622536365\n"
          ]
        }
      ]
    },
    {
      "cell_type": "code",
      "source": [
        "random.seed(42)\n",
        "test_samples = []\n",
        "test_labels = []\n",
        "\n",
        "for sample, label in random.sample(list(test_dataset), k=9):\n",
        "    test_samples.append(sample)\n",
        "    test_labels.append(label)\n",
        "\n",
        "test_samples[0].shape"
      ],
      "metadata": {
        "colab": {
          "base_uri": "https://localhost:8080/"
        },
        "id": "VU6kQNoKlfOh",
        "outputId": "68bddc06-b20e-4e94-cbda-283ed563e2ba"
      },
      "execution_count": 37,
      "outputs": [
        {
          "output_type": "execute_result",
          "data": {
            "text/plain": [
              "torch.Size([3, 32, 32])"
            ]
          },
          "metadata": {},
          "execution_count": 37
        }
      ]
    },
    {
      "cell_type": "code",
      "source": [
        "def make_predictions(model: torch.nn.Module,\n",
        "                    data:list,\n",
        "                    device: torch.device = device):\n",
        "    pred_probs = []\n",
        "    model.to(device)\n",
        "    model.eval()\n",
        "    with torch.inference_mode():\n",
        "        for sample in data:\n",
        "            # Prepare the sample (add a batch dimension and pass to target device)\n",
        "            sample = torch.unsqueeze(sample,dim=0).to(device)\n",
        "\n",
        "            # Forward pass (model outputs raw logits)\n",
        "            pred_logit = model(sample)\n",
        "\n",
        "            # Get prediction Probability (logit -> prediction probability)\n",
        "            pred_prob = torch.softmax(pred_logit.squeeze(), dim=0)\n",
        "\n",
        "            # Get prob_prob off the GPU for further calculations\n",
        "            pred_probs.append(pred_prob.cpu())\n",
        "\n",
        "    # stack the pred_probs to turn list into a tensor\n",
        "    return torch.stack(pred_probs)"
      ],
      "metadata": {
        "id": "ybS4-QYUrfS6"
      },
      "execution_count": 38,
      "outputs": []
    },
    {
      "cell_type": "code",
      "source": [
        "pred_probs = make_predictions(model,test_samples,device)"
      ],
      "metadata": {
        "id": "EhGdHmxWrhtZ"
      },
      "execution_count": 43,
      "outputs": []
    },
    {
      "cell_type": "code",
      "source": [
        "pred_classes = pred_probs.argmax(dim=1)\n",
        "pred_classes"
      ],
      "metadata": {
        "colab": {
          "base_uri": "https://localhost:8080/"
        },
        "id": "Wjj_uIRVsOnI",
        "outputId": "66325c37-17fb-42b6-de46-c34377c7a173"
      },
      "execution_count": 44,
      "outputs": [
        {
          "output_type": "execute_result",
          "data": {
            "text/plain": [
              "tensor([9, 2, 1, 7, 7, 3, 7, 0, 9])"
            ]
          },
          "metadata": {},
          "execution_count": 44
        }
      ]
    },
    {
      "cell_type": "code",
      "source": [
        "plt.figure(figsize=(9,9))\n",
        "nrows = 3\n",
        "ncols = 3\n",
        "\n",
        "for i, sample in enumerate(test_samples):\n",
        "    plt.subplot(nrows,ncols,i+1)\n",
        "\n",
        "    # img = Image.open(sample)\n",
        "    # img = cv2.imread(sample,\"Image\")\n",
        "\n",
        "\n",
        "    plt.imshow((sample.squeeze()).permute(1,2,0))\n",
        "\n",
        "    pred_label = class_names[pred_classes[i]]\n",
        "\n",
        "    truth_label = class_names[test_labels[i]]\n",
        "\n",
        "    title_text = f\"Pred: {pred_label} | Truth: {truth_label}\"\n",
        "\n",
        "    if pred_label == truth_label:\n",
        "        plt.title(title_text,fontsize = 10,c=\"g\")\n",
        "\n",
        "    else:\n",
        "        plt.title(title_text,fontsize=10,c=\"r\")\n",
        "\n",
        "    plt.axis(False);"
      ],
      "metadata": {
        "colab": {
          "base_uri": "https://localhost:8080/",
          "height": 749
        },
        "id": "giOAzhh_qrF1",
        "outputId": "9c99b1ba-244c-4785-b2f2-a536899aef5b"
      },
      "execution_count": 48,
      "outputs": [
        {
          "output_type": "display_data",
          "data": {
            "text/plain": [
              "<Figure size 900x900 with 9 Axes>"
            ],
            "image/png": "[encoded data removed]"
          },
          "metadata": {}
        }
      ]
    },
    {
      "cell_type": "code",
      "source": [],
      "metadata": {
        "id": "fSNCXeLBhqAG"
      },
      "execution_count": null,
      "outputs": []
    }
  ]
}